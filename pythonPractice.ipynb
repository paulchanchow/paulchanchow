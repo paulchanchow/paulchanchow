{
 "cells": [
  {
   "cell_type": "markdown",
   "metadata": {},
   "source": [
    "# Python fundamentals - getting to grips with the basics\n",
    "This exercise is aimed at refreshing/introducing some fundamental programming concepts in the Python language. We will build up our knowledge slowly and by week 6/7 we will be doing some quite complicated things!\n",
    "\n",
    "Feel free to adapt the tasks to make them feel more fun/relevant to your interests! This goes for any of the lab exercises.\n",
    "\n",
    "## Online documentation\n",
    "\n",
    "Our previous students have found lots of outside resources helpful/relevant when getting up to speed.\n",
    "\n",
    "+ Beginners may find it helpful to check out [Google's Python class](https://wiki.python.org/moin/BeginnersGuide)\n",
    "+ [Tutorials Point](http://www.tutorialspoint.com/python/) is also useful for those wanting to check/recap syntax and rules\n",
    "+ [Official Python documentation](https://docs.python.org/3/) is another useful reference that we will use throughout this course. Keep it handy as a lot of the exercises will rely on you cross-referencing this documentation."
   ]
  },
  {
   "cell_type": "markdown",
   "metadata": {},
   "source": [
    "## Task 1: Defining variables\n",
    "In Python, variables can be defined anywhere in the script, and the **type** of data they contain doesn't need to be declared explicitly - it is implicit according to the **syntax** of the language. For example,\n",
    "\n",
    "    my_string = \"Some characters\" # define a string (text)\n",
    "    my_int = 1234                 # define an integer\n",
    "    my_float = 3.14               # define a floating point number\n",
    "    my_bool = True                # define a boolean (true or false value)\n",
    "    \n",
    "In a new code cell, **define 4 variables** suitable for storing:\n",
    "1. the title of a book\n",
    "2. the price of the book\n",
    "3. the edition of the book\n",
    "4. whether it is in stock\n",
    "\n",
    "In the same cell, write a statement which will **output the contents of your variables** using the built-in `print()` **function**. For example,\n",
    "\n",
    "    print( my_string, my_int, my_float, my_bool )"
   ]
  },
  {
   "cell_type": "code",
   "execution_count": 2,
   "metadata": {},
   "outputs": [
    {
     "name": "stdout",
     "output_type": "stream",
     "text": [
      "All Quiet On The Western Front 10.99 2 True\n"
     ]
    }
   ],
   "source": [
    "book_title = \"All Quiet On The Western Front\"\n",
    "book_price = 10.99\n",
    "book_edition = 2\n",
    "book_instock = True\n",
    "\n",
    "print(book_title, book_price, book_edition, book_instock)"
   ]
  },
  {
   "cell_type": "markdown",
   "metadata": {},
   "source": [
    "## Task 2: Define a list\n",
    "In Python, one-dimensional arrays are referred to as **lists**. They are defined with square brackets and comma separated values like this:\n",
    "\n",
    "    my_list = [ \"hello\", 2, 2, 2.5, False ]\n",
    "    \n",
    "Notice how the list can contain a mixture of data types, and that the values do not have to be unique. It can also contain other lists:\n",
    "\n",
    "    my_next_list = [ my_list, 4, [2, 1], False ]\n",
    "    \n",
    "To access an **item** in a list, use the list list name followed by square brackets with the item index inside. List elements are indexed from 0. For example,\n",
    "\n",
    "    print( my_next_list[1] )\n",
    "    \n",
    "will output the integer 4.\n",
    "\n",
    "**Practice Activity: Define one or more lists** to store the details of 4 books. You can do this in a number of ways.\n",
    "Afterwards, write a statement to **output all the book titles**.\n",
    "\n",
    "We will cover lists and other data types again later, so do not worry about internalising this too much!"
   ]
  },
  {
   "cell_type": "code",
   "execution_count": 24,
   "metadata": {},
   "outputs": [
    {
     "name": "stdout",
     "output_type": "stream",
     "text": [
      "All Quiet On The Western Front Eye of the World Outliers Lord of Chaos\n",
      "[['All Quiet On The Western Front', 10.99, 2, True], ['Eye of the World', 9.99, 2, True], ['Outliers', 9.99, 1, False], ['Lord of Chaos', 14.99, 1, True]]\n"
     ]
    }
   ],
   "source": [
    "book_1 = [\"All Quiet On The Western Front\", 10.99, 2, True]\n",
    "book_2 = [\"Eye of the World\", 9.99, 2, True]\n",
    "book_3 = [\"Outliers\", 9.99, 1, False]\n",
    "book_4 = [\"Lord of Chaos\", 14.99, 1, True]\n",
    "book_list = [book_1, book_2, book_3, book_4]\n",
    "print(book_1[0],  book_2[0], book_3[0], book_4[0])\n",
    "print(book_list)"
   ]
  },
  {
   "cell_type": "markdown",
   "metadata": {},
   "source": [
    "## Task 3: Define a dictionary\n",
    "Lists can often be a bit difficult to work with, depending on the data you're trying to manipulate. An alternative is to store lists of **key, value pairs**. For this we have **dictionary containers** in Python. These are like associative arrays.\n",
    "A dictionary is defined like so,\n",
    "\n",
    "    my_dict = { \"key1\" : \"value1\", \"key2\" : \"value2\" , \"key3\" : \"value3\" }\n",
    "    \n",
    "The values in a dictionary needn't be unique, and they can contain arbitrary data types. The keys must be unique and of an immutable data type, such as integer or string.\n",
    "\n",
    "To access the values in a dictionary, you reference the dictionary name followed by the name of the key in square brackets. For example,\n",
    "\n",
    "    value_1 = my_dict[\"key1\"]\n",
    "    \n",
    "**Practice Activity: Define a dictionary** to hold the details of a single book in your book store. Afterwards, write a statement to **output the book title**."
   ]
  },
  {
   "cell_type": "code",
   "execution_count": 51,
   "metadata": {},
   "outputs": [
    {
     "name": "stdout",
     "output_type": "stream",
     "text": [
      "Outliers\n",
      "{'title': 'Eye Of The World', 'price': '9.99', 'edition': '1', 'in_stock': 'True'}\n"
     ]
    }
   ],
   "source": [
    "book1 = {\"title\" : \"All Quiet On The Western Front\",\"price\": \"10.99\", \"edition\": \"2\", \"in_stock\": \"True\"}\n",
    "book2 = {\"title\" : \"Eye Of The World\",\"price\": \"9.99\", \"edition\": \"1\", \"in_stock\": \"True\"}\n",
    "book3 = {\"title\" : \"Outliers\",\"price\": \"9.99\", \"edition\": \"1\", \"in_stock\": \"False\"}\n",
    "book4 = {\"title\" : \"Lord Of Chaos\",\"price\": \"14.99\", \"edition\": \"1\", \"in_stock\": \"True\"}\n",
    "books = [book1, book2, book3, book4]\n",
    "print(book3[\"title\"])\n",
    "print(books[1])"
   ]
  },
  {
   "cell_type": "markdown",
   "metadata": {},
   "source": [
    "## Task 4: Controlling program flow\n",
    "In programming, to make a selection between 2 or more possible outcomes, a **conditional statement** is commonly used. A conditional statement is a type of **control statement**, in that it allows the programmer to control the logical \\`flow' of the program. In Python, the `if` and `else` statements can force a selection between 2 outcomes, depending whether some condition is met. For example,\n",
    "\n",
    "    a, b = 7, 6\n",
    "    if a == b:\n",
    "        print( str(a) + \" is equal to \" + str(b) )\n",
    "    else:\n",
    "        print( str(a) + \" is not equal to \" + str(b) )\n",
    "        \n",
    "The important thing to note here is the use of **indentation**. In Python, indentation is very important and affects how a statement is interpreted by the compiler. Other things you might notice are the use of `+` operator to **concatenate** (join) strings; use of the `==` **comparison operator** to check if 2 values are equal; the ability to perform multiple assignment; and the use of the built-in `str()` function to convert an integer to a string.\n",
    "\n",
    "**Practice Activity: Write a conditional statement** which will either output \"Available\" or \"Unavailable\" based on whether or not the book you defined in Task 3 is in stock (i.e. it should check the value associated with an `in_stock` key)."
   ]
  },
  {
   "cell_type": "code",
   "execution_count": 15,
   "metadata": {},
   "outputs": [
    {
     "name": "stdout",
     "output_type": "stream",
     "text": [
      "Available\n"
     ]
    }
   ],
   "source": [
    "if book_1[\"in_stock\"] == \"True\":\n",
    "    print(\"Available\")\n",
    "else:\n",
    "    print(\"Unavailable\")"
   ]
  },
  {
   "cell_type": "markdown",
   "metadata": {},
   "source": [
    "## Task 5: Write an iteration statement\n",
    "Iteration statements are used to loop through (repeat) a section of code **for** a specific number of cycles, or **while** some condition evaluates True. For example, a **while loop** could look like this:\n",
    "\n",
    "    secret_number = 10\n",
    "    guess = 1\n",
    "    \n",
    "    # Do something while guess is not equal to secret_number...\n",
    "    while guess != secret_number :\n",
    "        # Code to repeat while above condition is true\n",
    "        guess = int( input( \"Guess the secret number: \" ) )\n",
    "    \n",
    "    # This will happen only when condition is false        \n",
    "    print( \"You guessed correct!\" )                    \n",
    "\n",
    "And a **for loop** could look like this:\n",
    "    \n",
    "    # i is a `pseudo-variable' which exists while this statement executes\n",
    "    for i in range(0, 5):                              \n",
    "        print( i )                                \n",
    "        \n",
    "It is also very easy to iterate through elements in a list using a for loop:\n",
    "\n",
    "    # item is another pseudo-variable which takes the value of the current list element\n",
    "    for item in my_list:                               \n",
    "        print( item )\n",
    "\n",
    "**Practice Activity: Write an iteration statement** which will output the book titles from Task 2 on separate lines.     "
   ]
  },
  {
   "cell_type": "code",
   "execution_count": 26,
   "metadata": {},
   "outputs": [
    {
     "name": "stdout",
     "output_type": "stream",
     "text": [
      "All Quiet On The Western Front\n",
      "Eye of the World\n",
      "Outliers\n",
      "Lord of Chaos\n"
     ]
    }
   ],
   "source": [
    "for item in book_list:\n",
    "    print(item[0])"
   ]
  },
  {
   "cell_type": "markdown",
   "metadata": {},
   "source": [
    "## Task 6: Use built-in functions to manipulate lists\n",
    "Whether you knew it or not, you have already been making use of **functions** in this exercise. A function is a  reuseable block of code which performs a specific task (often a task which gets repeated many times in a program). Functions help to make code reuseable, as well as making it more readable and easier to maintain.\n",
    "In Python there are many built-in functions (i.e. `print()` is a built-in function), and more can be imported from external libraries (in Exercise 1 you imported the numpy and csv libraries). \n",
    "\n",
    "Functions are easily identified by their trailing **parentheses**. Often functions will accept one or more **inputs** and will **return** one or more **outputs**. Inputs are passed into functions as **arguments**, which are included in the parentheses. For example, `print()` expects an argument in the form of a string or variable, which it will then output to the console.\n",
    "\n",
    "There are lots of built-in functions you can use to manipulate lists (among other things). Technically some of these are actually methods (methods are functions of a particular class of object, but don't worry what that means yet). For example, you can call the built-in `len()` function to return the **length** of a list or other object:\n",
    "\n",
    "    print( len( my_list ) )\n",
    "    \n",
    "Or you can **append** an item to the end of a list with the `append()` list method:\n",
    "\n",
    "    my_list.append( \"A new list item\" )\n",
    "\n",
    "Notice in the latter example, we call the method on the list item rather than passing the list as an argument. This is because `append()` is a method of the list class.\n",
    "    \n",
    "Practice Activity: Use built-in functions to do the following:\n",
    "1. Output the **number of books** in your store\n",
    "2. **Add** a new book to the store\n",
    "3. **Remove** a specific book from the store (HINT: there is a `remove()` method of the list object!)\n"
   ]
  },
  {
   "cell_type": "code",
   "execution_count": 44,
   "metadata": {},
   "outputs": [
    {
     "name": "stdout",
     "output_type": "stream",
     "text": [
      "5\n",
      "[['All Quiet On The Western Front', 10.99, 2, True], ['Eye of the World', 9.99, 2, True], ['Outliers', 9.99, 1, False], ['Lord of Chaos', 14.99, 1, True], ['Fires Of Heaven', 8.99, 3, False]]\n"
     ]
    }
   ],
   "source": [
    "print(len(book_list))\n",
    "book_list.append([\"Fires Of Heaven\", 8.99, 3, False])\n",
    "book_list.remove(book_list[4])\n",
    "print(book_list)"
   ]
  },
  {
   "cell_type": "markdown",
   "metadata": {},
   "source": [
    "## Task 7: Define a function\n",
    "Defining your own functions in Python is highly recommended for maximising code reuse and for making your programs easy to debug and maintain. You define functions in Python like this:\n",
    "\n",
    "    def addNumbers( num1, num2 ):\n",
    "        sum = num1 + num2\n",
    "        return sum\n",
    "        \n",
    "Notice this function accepts 2 arguments (the inputs), and returns a single output. You would call this function elsewhere in the program like this:\n",
    "\n",
    "    result = addNumbers( 3, 5 )\n",
    "    \n",
    "Notice how the output is being assigned to a variable here.\n",
    "\n",
    "**Practice Activity: Define a function** which will accept a list of dictionary objects as input, and will return a list of values pertaining to a specific key in the dictionaries. \n",
    "\n",
    "**Practice Activity: Call the function** and assign the result to a new variable. Check it worked correctly using a `print()` statement. \n",
    "\n",
    "**Tip:** A call to the function might look something like,\n",
    "\n",
    "        titles = get_titles( [book1, book2, book3] )\n",
    "where it is assumed that `book1`, `book2`, and `book3` are dictionaries which each have title keys."
   ]
  },
  {
   "cell_type": "code",
   "execution_count": 65,
   "metadata": {},
   "outputs": [
    {
     "name": "stdout",
     "output_type": "stream",
     "text": [
      "['All Quiet On The Western Front', 'Eye Of The World', 'Outliers', 'Lord Of Chaos']\n"
     ]
    }
   ],
   "source": [
    "def get_titles(book_a, book_b, book_c, book_d):\n",
    "    title1 = book_a[\"title\"]\n",
    "    title2 = book_b[\"title\"]\n",
    "    title3 = book_c[\"title\"]\n",
    "    title4 = book_d[\"title\"]\n",
    "    all_titles = [title1, title2, title3, title4]\n",
    "    return all_titles\n",
    "    \n",
    "titles = get_titles(book1, book2, book3, book4)\n",
    "print(titles)\n",
    "    \n",
    "\n",
    "    "
   ]
  },
  {
   "cell_type": "code",
   "execution_count": null,
   "metadata": {},
   "outputs": [],
   "source": []
  }
 ],
 "metadata": {
  "kernelspec": {
   "display_name": "Python 3 (ipykernel)",
   "language": "python",
   "name": "python3"
  },
  "language_info": {
   "codemirror_mode": {
    "name": "ipython",
    "version": 3
   },
   "file_extension": ".py",
   "mimetype": "text/x-python",
   "name": "python",
   "nbconvert_exporter": "python",
   "pygments_lexer": "ipython3",
   "version": "3.9.13"
  }
 },
 "nbformat": 4,
 "nbformat_minor": 1
}
